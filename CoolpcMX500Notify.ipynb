{
 "cells": [
  {
   "cell_type": "code",
   "execution_count": 3,
   "metadata": {},
   "outputs": [
    {
     "name": "stdout",
     "output_type": "stream",
     "text": [
      "C:\\Users\\inf05074\\PycharmProjects\\venv35\\Scripts\\python.exe\n",
      "3.5.2\n",
      "h3bNboqAeyvgUpz4vSFQrDCEUH5rGmMCSrqjE555ZFQ\n"
     ]
    }
   ],
   "source": [
    "%config IPCompleter.greedy=True\n",
    "import LineConfig as Line\n",
    "from platform import python_version\n",
    "import numpy as np\n",
    "import sys\n",
    "\n",
    "print(sys.executable)\n",
    "print(python_version())\n",
    "print(Line.LINE_NOTIFY_TOKEN)\n",
    "print(np.)"
   ]
  },
  {
   "cell_type": "code",
   "execution_count": null,
   "metadata": {},
   "outputs": [],
   "source": []
  },
  {
   "cell_type": "code",
   "execution_count": null,
   "metadata": {},
   "outputs": [],
   "source": []
  },
  {
   "cell_type": "code",
   "execution_count": null,
   "metadata": {},
   "outputs": [],
   "source": []
  },
  {
   "cell_type": "code",
   "execution_count": null,
   "metadata": {},
   "outputs": [],
   "source": []
  }
 ],
 "metadata": {
  "kernelspec": {
   "display_name": "Python35_Project",
   "language": "python",
   "name": "python35_project"
  },
  "language_info": {
   "codemirror_mode": {
    "name": "ipython",
    "version": 3
   },
   "file_extension": ".py",
   "mimetype": "text/x-python",
   "name": "python",
   "nbconvert_exporter": "python",
   "pygments_lexer": "ipython3",
   "version": "3.5.2"
  }
 },
 "nbformat": 4,
 "nbformat_minor": 2
}
